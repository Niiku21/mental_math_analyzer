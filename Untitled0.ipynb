{
  "nbformat": 4,
  "nbformat_minor": 0,
  "metadata": {
    "colab": {
      "provenance": []
    },
    "kernelspec": {
      "name": "python3",
      "display_name": "Python 3"
    },
    "language_info": {
      "name": "python"
    }
  },
  "cells": [
    {
      "cell_type": "code",
      "execution_count": 7,
      "metadata": {
        "colab": {
          "base_uri": "https://localhost:8080/"
        },
        "id": "WYjSGFfEUbWH",
        "outputId": "5383788f-1480-4a19-a274-25f29aadc0cb"
      },
      "outputs": [
        {
          "output_type": "stream",
          "name": "stdout",
          "text": [
            "Mental maths analysis results:\n",
            "mean:27.0\n",
            "median:23.0\n",
            "maximum:53.0\n",
            "minimum:10.0\n",
            "Standard deviation:15.37313674346694\n"
          ]
        }
      ],
      "source": [
        "# mental_maths_analyzer\n",
        "import numpy as np\n",
        "user_input= '23,10,41,12,53,23'\n",
        "numbers=[float(num.strip()) for num in user_input.split(\",\")]\n",
        "data= np.array(numbers)\n",
        "mean= np.mean(data)\n",
        "median= np.median(data)\n",
        "maximum= np.max(data)\n",
        "minimum= np.min(data)\n",
        "std_dev= np.std(data)\n",
        "print(f'Mental maths analysis results:')\n",
        "print(f'mean:{mean}')\n",
        "print(f'median:{median}')\n",
        "print(f'maximum:{maximum}')\n",
        "print(f'minimum:{minimum}')\n",
        "print(f'Standard deviation:{std_dev}')\n"
      ]
    }
  ]
}